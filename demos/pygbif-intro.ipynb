{
 "cells": [
  {
   "cell_type": "markdown",
   "metadata": {},
   "source": [
    "### Install\n",
    "pip install pygbif"
   ]
  },
  {
   "cell_type": "markdown",
   "metadata": {},
   "source": [
    "### Registry/datasets\n"
   ]
  },
  {
   "cell_type": "code",
   "execution_count": 1,
   "metadata": {
    "collapsed": false
   },
   "outputs": [
    {
     "data": {
      "text/plain": [
       "{u'colCoveragePct': 76,\n",
       " u'colMatchingCount': 22483,\n",
       " u'countByConstituent': {},\n",
       " u'countByIssue': {u'BACKBONE_MATCH_NONE': 1338,\n",
       "  u'VERNACULAR_NAME_INVALID': 7852},\n",
       " u'countByKingdom': {u'PLANTAE': 8949},\n",
       " u'countByOrigin': {u'PROPARTE': 10, u'SOURCE': 29260},\n",
       " u'countByRank': {u'CLASS': 1,\n",
       "  u'FAMILY': 172,\n",
       "  u'GENUS': 1251,\n",
       "  u'ORDER': 55,\n",
       "  u'SECTION': 326,\n",
       "  u'SERIES': 40,\n",
       "  u'SPECIES': 6071,\n",
       "  u'SUBCLASS': 6,\n",
       "  u'SUBFAMILY': 150,\n",
       "  u'SUBGENUS': 101,\n",
       "  u'SUBSECTION': 56,\n",
       "  u'SUBSPECIES': 737,\n",
       "  u'SUBTRIBE': 61,\n",
       "  u'SUPERORDER': 12,\n",
       "  u'TRIBE': 328,\n",
       "  u'VARIETY': 871},\n",
       " u'countExtRecordsByExtension': {u'DESCRIPTION': 10213,\n",
       "  u'DISTRIBUTION': 29143,\n",
       "  u'IDENTIFIER': 0,\n",
       "  u'MULTIMEDIA': 0,\n",
       "  u'REFERENCE': 0,\n",
       "  u'SPECIES_PROFILE': 0,\n",
       "  u'TYPES_AND_SPECIMEN': 0,\n",
       "  u'VERNACULAR_NAME': 32290},\n",
       " u'countNamesByLanguage': {u'ENGLISH': 20989, u'FRENCH': 11301},\n",
       " u'created': u'2016-07-27T20:34:07.015+0000',\n",
       " u'datasetKey': u'3f8a1297-3259-4700-91fc-acc4170b27ce',\n",
       " u'distinctNamesCount': 29254,\n",
       " u'downloaded': u'2016-07-27T20:34:07.013+0000',\n",
       " u'key': 55067,\n",
       " u'nubCoveragePct': 95,\n",
       " u'nubMatchingCount': 27932,\n",
       " u'otherCount': {},\n",
       " u'synonymsCount': 19032,\n",
       " u'usagesCount': 29270}"
      ]
     },
     "execution_count": 1,
     "metadata": {},
     "output_type": "execute_result"
    }
   ],
   "source": [
    "from pygbif import registry\n",
    "registry.dataset_metrics(uuid='3f8a1297-3259-4700-91fc-acc4170b27ce')"
   ]
  },
  {
   "cell_type": "markdown",
   "metadata": {},
   "source": [
    "### Taxonomic names"
   ]
  },
  {
   "cell_type": "code",
   "execution_count": 2,
   "metadata": {
    "collapsed": false
   },
   "outputs": [
    {
     "data": {
      "text/plain": [
       "{'data': [{u'canonicalName': u'Puma concolor',\n",
       "   u'class': u'Mammalia',\n",
       "   u'classKey': 359,\n",
       "   u'family': u'Felidae',\n",
       "   u'familyKey': 9703,\n",
       "   u'genus': u'Puma',\n",
       "   u'genusKey': 2435098,\n",
       "   u'key': 2435099,\n",
       "   u'kingdom': u'Animalia',\n",
       "   u'kingdomKey': 1,\n",
       "   u'nubKey': 2435099,\n",
       "   u'order': u'Carnivora',\n",
       "   u'orderKey': 732,\n",
       "   u'parent': u'Puma',\n",
       "   u'parentKey': 2435098,\n",
       "   u'phylum': u'Chordata',\n",
       "   u'phylumKey': 44,\n",
       "   u'rank': u'SPECIES',\n",
       "   u'scientificName': u'Puma concolor (Linnaeus, 1771)',\n",
       "   u'species': u'Puma concolor',\n",
       "   u'speciesKey': 2435099,\n",
       "   u'status': u'ACCEPTED',\n",
       "   u'synonym': False}],\n",
       " 'hierarchy': [{u'1': u'Animalia',\n",
       "   u'2435098': u'Puma',\n",
       "   u'359': u'Mammalia',\n",
       "   u'44': u'Chordata',\n",
       "   u'732': u'Carnivora',\n",
       "   u'9703': u'Felidae'}]}"
      ]
     },
     "execution_count": 2,
     "metadata": {},
     "output_type": "execute_result"
    }
   ],
   "source": [
    "from pygbif import species\n",
    "species.name_suggest(q='Puma concolor', limit = 1)"
   ]
  },
  {
   "cell_type": "markdown",
   "metadata": {},
   "source": [
    "### Occurrence data"
   ]
  },
  {
   "cell_type": "markdown",
   "metadata": {},
   "source": [
    "__Search__"
   ]
  },
  {
   "cell_type": "code",
   "execution_count": 3,
   "metadata": {
    "collapsed": false
   },
   "outputs": [
    {
     "data": {
      "text/plain": [
       "[u'Basidiomycota',\n",
       " u'Basidiomycota',\n",
       " u'Basidiomycota',\n",
       " u'Basidiomycota',\n",
       " u'Basidiomycota',\n",
       " u'Basidiomycota',\n",
       " u'Basidiomycota',\n",
       " u'Basidiomycota',\n",
       " u'Basidiomycota',\n",
       " u'Basidiomycota']"
      ]
     },
     "execution_count": 3,
     "metadata": {},
     "output_type": "execute_result"
    }
   ],
   "source": [
    "from pygbif import occurrences\n",
    "res = occurrences.search(taxonKey = 3329049, limit = 10)\n",
    "[ x['phylum'] for x in res['results'] ]"
   ]
  },
  {
   "cell_type": "markdown",
   "metadata": {},
   "source": [
    "__Fetch specific occurrences__"
   ]
  },
  {
   "cell_type": "code",
   "execution_count": 5,
   "metadata": {
    "collapsed": false
   },
   "outputs": [
    {
     "data": {
      "text/plain": [
       "{u'basisOfRecord': u'PRESERVED_SPECIMEN',\n",
       " u'bibliographicCitation': u'http://www.tropicos.org/Specimen/100889255',\n",
       " u'catalogNumber': u'100889255',\n",
       " u'class': u'Magnoliopsida',\n",
       " u'classKey': 220,\n",
       " u'collectionCode': u'MO',\n",
       " u'collectionID': u'http://biocol.org/urn:lsid:biocol.org:col:15859',\n",
       " u'continent': u'NORTH_AMERICA',\n",
       " u'country': u'Panama',\n",
       " u'countryCode': u'PA',\n",
       " u'county': u'La Pintada',\n",
       " u'crawlId': 18,\n",
       " u'datasetKey': u'7bd65a7a-f762-11e1-a439-00145eb45e9a',\n",
       " u'datasetName': u'Tropicos',\n",
       " u'day': 11,\n",
       " u'decimalLatitude': 8.68,\n",
       " u'decimalLongitude': -80.60056,\n",
       " u'elevation': 753.0,\n",
       " u'eventDate': u'2016-01-11T00:00:00.000+0000',\n",
       " u'extensions': {},\n",
       " u'facts': [],\n",
       " u'family': u'Juglandaceae',\n",
       " u'familyKey': 2499,\n",
       " u'fieldNumber': u'9',\n",
       " u'gbifID': u'1258202889',\n",
       " u'genericName': u'Alfaroa',\n",
       " u'genus': u'Alfaroa',\n",
       " u'genusKey': 7310533,\n",
       " u'geodeticDatum': u'WGS84',\n",
       " u'identifier': u'urn:catalog:MO:Tropicos:100889255',\n",
       " u'identifiers': [],\n",
       " u'individualCount': 3,\n",
       " u'institutionCode': u'MO',\n",
       " u'issues': [u'COORDINATE_ROUNDED', u'GEODETIC_DATUM_ASSUMED_WGS84'],\n",
       " u'key': 1258202889,\n",
       " u'kingdom': u'Plantae',\n",
       " u'kingdomKey': 6,\n",
       " u'lastCrawled': u'2016-06-06T11:13:54.020+0000',\n",
       " u'lastInterpreted': u'2016-08-04T03:07:30.466+0000',\n",
       " u'lastParsed': u'2016-03-21T14:33:34.346+0000',\n",
       " u'license': u'http://creativecommons.org/licenses/by/4.0/legalcode',\n",
       " u'locality': u'Corregimiento del Harino. Parque Nacional General de Divisi\\xf3n Omar Torrijos Herrera (PNGDOTH) el Cop\\xe9, camino hacia La Rica, aproximadamente a 1.5 Km. al NO de la caba\\xf1a de visitantes del parque. Parcela Los corazones 1 (PP-Corazones-1).',\n",
       " u'month': 1,\n",
       " u'nomenclaturalCode': u'ICNafp',\n",
       " u'nomenclaturalStatus': u'No opinion',\n",
       " u'occurrenceID': u'urn:catalog:MO:Tropicos:100889255',\n",
       " u'order': u'Fagales',\n",
       " u'orderKey': 1354,\n",
       " u'ownerInstitutionCode': u'MOBOT',\n",
       " u'phylum': u'Tracheophyta',\n",
       " u'phylumKey': 7707728,\n",
       " u'protocol': u'DWC_ARCHIVE',\n",
       " u'publishingCountry': u'US',\n",
       " u'publishingOrgKey': u'90fd6680-349f-11d8-aa2d-b8a03c50a862',\n",
       " u'recordNumber': u'Flores Jim\\xe9nez 3724',\n",
       " u'recordedBy': u'Rodolfo Flores|M. Madrid|Y. Pe\\xf1a|L. De Gracia V.|R. Berenguer|J. Rodr\\xedguez|J. Vargas|A. Gonzalez C.|C. L\\xf3pez V.|R. Vergara E.|H. Moreno',\n",
       " u'relations': [],\n",
       " u'rightsHolder': u'Missouri Botanical Garden',\n",
       " u'scientificName': u'Alfaroa Standl.',\n",
       " u'stateProvince': u'Cocl\\xe9',\n",
       " u'taxonID': u'40009683',\n",
       " u'taxonKey': 7310533,\n",
       " u'taxonRank': u'GENUS',\n",
       " u'type': u'PhysicalObject',\n",
       " u'year': 2016}"
      ]
     },
     "execution_count": 5,
     "metadata": {},
     "output_type": "execute_result"
    }
   ],
   "source": [
    "occurrences.get(key = 1258202889)"
   ]
  },
  {
   "cell_type": "markdown",
   "metadata": {},
   "source": [
    "__Occurrence counts API__"
   ]
  },
  {
   "cell_type": "code",
   "execution_count": 6,
   "metadata": {
    "collapsed": false
   },
   "outputs": [
    {
     "data": {
      "text/plain": [
       "546341356"
      ]
     },
     "execution_count": 6,
     "metadata": {},
     "output_type": "execute_result"
    }
   ],
   "source": [
    "occurrences.count(isGeoreferenced = True)"
   ]
  }
 ],
 "metadata": {
  "kernelspec": {
   "display_name": "Python 2",
   "language": "python",
   "name": "python2"
  },
  "language_info": {
   "codemirror_mode": {
    "name": "ipython",
    "version": 2
   },
   "file_extension": ".py",
   "mimetype": "text/x-python",
   "name": "python",
   "nbconvert_exporter": "python",
   "pygments_lexer": "ipython2",
   "version": "2.7.9"
  }
 },
 "nbformat": 4,
 "nbformat_minor": 0
}
